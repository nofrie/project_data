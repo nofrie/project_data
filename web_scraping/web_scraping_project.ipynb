{
 "cells": [
  {
   "cell_type": "markdown",
   "id": "bfc6e82f-7700-4064-a4f4-2f262b126fa3",
   "metadata": {},
   "source": [
    "### credit to Keith Galli: https://www.youtube.com/watch?v=Ewgy-G9cmbg"
   ]
  },
  {
   "cell_type": "markdown",
   "id": "cbd06bca-4d86-4fef-951c-a42056ab6a06",
   "metadata": {},
   "source": [
    "#### Task#1 Scrape the infobox from toy story"
   ]
  },
  {
   "cell_type": "code",
   "execution_count": 1,
   "id": "53dfb662-282c-48c8-a3c4-0f5f3646db7e",
   "metadata": {},
   "outputs": [],
   "source": [
    "from bs4 import BeautifulSoup as bs\n",
    "import requests"
   ]
  },
  {
   "cell_type": "code",
   "execution_count": 2,
   "id": "73ae65f4-15f5-466f-8bd1-d917750ee3e2",
   "metadata": {
    "scrolled": true
   },
   "outputs": [],
   "source": [
    "r = requests.get('https://en.wikipedia.org/wiki/Toy_Story_3')\n",
    "\n",
    "soup = bs(r.content)\n",
    "\n",
    "contents = soup.prettify()"
   ]
  },
  {
   "cell_type": "code",
   "execution_count": 3,
   "id": "2c314dad-828d-4611-af27-87b01867003d",
   "metadata": {
    "scrolled": true
   },
   "outputs": [
    {
     "name": "stdout",
     "output_type": "stream",
     "text": [
      "<tr>\n",
      " <th class=\"infobox-above summary\" colspan=\"2\" style=\"font-size: 125%; font-style: italic;\">\n",
      "  Toy Story 3\n",
      " </th>\n",
      "</tr>\n",
      "\n",
      "<tr>\n",
      " <td class=\"infobox-image\" colspan=\"2\">\n",
      "  <span class=\"mw-default-size\" typeof=\"mw:File/Frameless\">\n",
      "   <a class=\"mw-file-description\" href=\"/wiki/File:Toy_Story_3_poster.jpg\" title=\"All of the toys packed close together, holding up a large numeral '3', with Buzz, who is putting a friendly arm around Woody's shoulder, and Woody holding the top of the 3. The release date &quot;June 18&quot; is displayed on the bottom.\">\n",
      "    <img alt=\"All of the toys packed close together, holding up a large numeral '3', with Buzz, who is putting a friendly arm around Woody's shoulder, and Woody holding the top of the 3. The release date &quot;June 18&quot; is displayed on the bottom.\" class=\"mw-file-element\" data-file-height=\"326\" data-file-width=\"220\" decoding=\"async\" height=\"326\" src=\"//upload.wikimedia.org/wikipedia/en/6/69/Toy_Story_3_poster.jpg\" width=\"220\"/>\n",
      "   </a>\n",
      "  </span>\n",
      "  <div class=\"infobox-caption\">\n",
      "   Theatrical release poster\n",
      "  </div>\n",
      " </td>\n",
      "</tr>\n",
      "\n",
      "<tr>\n",
      " <th class=\"infobox-label\" scope=\"row\" style=\"white-space: nowrap; padding-right: 0.65em;\">\n",
      "  Directed by\n",
      " </th>\n",
      " <td class=\"infobox-data\">\n",
      "  <a href=\"/wiki/Lee_Unkrich\" title=\"Lee Unkrich\">\n",
      "   Lee Unkrich\n",
      "  </a>\n",
      " </td>\n",
      "</tr>\n",
      "\n",
      "<tr>\n",
      " <th class=\"infobox-label\" scope=\"row\" style=\"white-space: nowrap; padding-right: 0.65em;\">\n",
      "  Screenplay by\n",
      " </th>\n",
      " <td class=\"infobox-data\">\n",
      "  <a href=\"/wiki/Michael_Arndt\" title=\"Michael Arndt\">\n",
      "   Michael Arndt\n",
      "  </a>\n",
      " </td>\n",
      "</tr>\n",
      "\n",
      "<tr>\n",
      " <th class=\"infobox-label\" scope=\"row\" style=\"white-space: nowrap; padding-right: 0.65em;\">\n",
      "  Story by\n",
      " </th>\n",
      " <td class=\"infobox-data\">\n",
      "  <style data-mw-deduplicate=\"TemplateStyles:r1126788409\">\n",
      "   .mw-parser-output .plainlist ol,.mw-parser-output .plainlist ul{line-height:inherit;list-style:none;margin:0;padding:0}.mw-parser-output .plainlist ol li,.mw-parser-output .plainlist ul li{margin-bottom:0}\n",
      "  </style>\n",
      "  <div class=\"plainlist\">\n",
      "   <ul>\n",
      "    <li>\n",
      "     <a href=\"/wiki/John_Lasseter\" title=\"John Lasseter\">\n",
      "      John Lasseter\n",
      "     </a>\n",
      "    </li>\n",
      "    <li>\n",
      "     <a href=\"/wiki/Andrew_Stanton\" title=\"Andrew Stanton\">\n",
      "      Andrew Stanton\n",
      "     </a>\n",
      "    </li>\n",
      "    <li>\n",
      "     Lee Unkrich\n",
      "    </li>\n",
      "   </ul>\n",
      "  </div>\n",
      " </td>\n",
      "</tr>\n",
      "\n",
      "<tr>\n",
      " <th class=\"infobox-label\" scope=\"row\" style=\"white-space: nowrap; padding-right: 0.65em;\">\n",
      "  Produced by\n",
      " </th>\n",
      " <td class=\"infobox-data\">\n",
      "  <a href=\"/wiki/Darla_K._Anderson\" title=\"Darla K. Anderson\">\n",
      "   Darla K. Anderson\n",
      "  </a>\n",
      " </td>\n",
      "</tr>\n",
      "\n",
      "<tr>\n",
      " <th class=\"infobox-label\" scope=\"row\" style=\"white-space: nowrap; padding-right: 0.65em;\">\n",
      "  Starring\n",
      " </th>\n",
      " <td class=\"infobox-data\">\n",
      "  <link href=\"mw-data:TemplateStyles:r1126788409\" rel=\"mw-deduplicated-inline-style\"/>\n",
      "  <div class=\"plainlist\">\n",
      "   <ul>\n",
      "    <li>\n",
      "     <a href=\"/wiki/Tom_Hanks\" title=\"Tom Hanks\">\n",
      "      Tom Hanks\n",
      "     </a>\n",
      "    </li>\n",
      "    <li>\n",
      "     <a href=\"/wiki/Tim_Allen\" title=\"Tim Allen\">\n",
      "      Tim Allen\n",
      "     </a>\n",
      "    </li>\n",
      "    <li>\n",
      "     <a href=\"/wiki/Joan_Cusack\" title=\"Joan Cusack\">\n",
      "      Joan Cusack\n",
      "     </a>\n",
      "    </li>\n",
      "    <li>\n",
      "     <a href=\"/wiki/Don_Rickles\" title=\"Don Rickles\">\n",
      "      Don Rickles\n",
      "     </a>\n",
      "    </li>\n",
      "    <li>\n",
      "     <a href=\"/wiki/Wallace_Shawn\" title=\"Wallace Shawn\">\n",
      "      Wallace Shawn\n",
      "     </a>\n",
      "    </li>\n",
      "    <li>\n",
      "     <a href=\"/wiki/John_Ratzenberger\" title=\"John Ratzenberger\">\n",
      "      John Ratzenberger\n",
      "     </a>\n",
      "    </li>\n",
      "    <li>\n",
      "     <a href=\"/wiki/Estelle_Harris\" title=\"Estelle Harris\">\n",
      "      Estelle Harris\n",
      "     </a>\n",
      "    </li>\n",
      "    <li>\n",
      "     <a href=\"/wiki/Ned_Beatty\" title=\"Ned Beatty\">\n",
      "      Ned Beatty\n",
      "     </a>\n",
      "    </li>\n",
      "    <li>\n",
      "     <a href=\"/wiki/Michael_Keaton\" title=\"Michael Keaton\">\n",
      "      Michael Keaton\n",
      "     </a>\n",
      "    </li>\n",
      "    <li>\n",
      "     <a href=\"/wiki/Jodi_Benson\" title=\"Jodi Benson\">\n",
      "      Jodi Benson\n",
      "     </a>\n",
      "    </li>\n",
      "    <li>\n",
      "     <a href=\"/wiki/John_Morris_(actor)\" title=\"John Morris (actor)\">\n",
      "      John Morris\n",
      "     </a>\n",
      "    </li>\n",
      "   </ul>\n",
      "  </div>\n",
      " </td>\n",
      "</tr>\n",
      "\n",
      "<tr>\n",
      " <th class=\"infobox-label\" scope=\"row\" style=\"white-space: nowrap; padding-right: 0.65em;\">\n",
      "  Cinematography\n",
      " </th>\n",
      " <td class=\"infobox-data\">\n",
      "  <link href=\"mw-data:TemplateStyles:r1126788409\" rel=\"mw-deduplicated-inline-style\"/>\n",
      "  <div class=\"plainlist\">\n",
      "   <ul>\n",
      "    <li>\n",
      "     Jeremy Lasky\n",
      "    </li>\n",
      "    <li>\n",
      "     Kim White\n",
      "    </li>\n",
      "   </ul>\n",
      "  </div>\n",
      " </td>\n",
      "</tr>\n",
      "\n",
      "<tr>\n",
      " <th class=\"infobox-label\" scope=\"row\" style=\"white-space: nowrap; padding-right: 0.65em;\">\n",
      "  Edited by\n",
      " </th>\n",
      " <td class=\"infobox-data\">\n",
      "  <a href=\"/wiki/Ken_Schretzmann\" title=\"Ken Schretzmann\">\n",
      "   Ken Schretzmann\n",
      "  </a>\n",
      " </td>\n",
      "</tr>\n",
      "\n",
      "<tr>\n",
      " <th class=\"infobox-label\" scope=\"row\" style=\"white-space: nowrap; padding-right: 0.65em;\">\n",
      "  Music by\n",
      " </th>\n",
      " <td class=\"infobox-data\">\n",
      "  <a href=\"/wiki/Randy_Newman\" title=\"Randy Newman\">\n",
      "   Randy Newman\n",
      "  </a>\n",
      " </td>\n",
      "</tr>\n",
      "\n",
      "<tr>\n",
      " <th class=\"infobox-label\" scope=\"row\" style=\"white-space: nowrap; padding-right: 0.65em;\">\n",
      "  <div style=\"display: inline-block; line-height: 1.2em; padding: .1em 0;\">\n",
      "   Production\n",
      "   <br/>\n",
      "   companies\n",
      "  </div>\n",
      " </th>\n",
      " <td class=\"infobox-data\">\n",
      "  <div style=\"vertical-align: middle;\">\n",
      "   <link href=\"mw-data:TemplateStyles:r1126788409\" rel=\"mw-deduplicated-inline-style\"/>\n",
      "   <div class=\"plainlist\">\n",
      "    <ul>\n",
      "     <li>\n",
      "      <a href=\"/wiki/Walt_Disney_Pictures\" title=\"Walt Disney Pictures\">\n",
      "       Walt Disney Pictures\n",
      "      </a>\n",
      "     </li>\n",
      "     <li>\n",
      "      <a class=\"mw-redirect\" href=\"/wiki/Pixar_Animation_Studios\" title=\"Pixar Animation Studios\">\n",
      "       Pixar Animation Studios\n",
      "      </a>\n",
      "     </li>\n",
      "    </ul>\n",
      "   </div>\n",
      "  </div>\n",
      " </td>\n",
      "</tr>\n",
      "\n",
      "<tr>\n",
      " <th class=\"infobox-label\" scope=\"row\" style=\"white-space: nowrap; padding-right: 0.65em;\">\n",
      "  Distributed by\n",
      " </th>\n",
      " <td class=\"infobox-data\">\n",
      "  <a href=\"/wiki/Walt_Disney_Studios_Motion_Pictures\" title=\"Walt Disney Studios Motion Pictures\">\n",
      "   Walt Disney Studios\n",
      "   <br/>\n",
      "   Motion Pictures\n",
      "  </a>\n",
      " </td>\n",
      "</tr>\n",
      "\n",
      "<tr>\n",
      " <th class=\"infobox-label\" scope=\"row\" style=\"white-space: nowrap; padding-right: 0.65em;\">\n",
      "  <div style=\"display: inline-block; line-height: 1.2em; padding: .1em 0; white-space: normal;\">\n",
      "   Release dates\n",
      "  </div>\n",
      " </th>\n",
      " <td class=\"infobox-data\">\n",
      "  <link href=\"mw-data:TemplateStyles:r1126788409\" rel=\"mw-deduplicated-inline-style\"/>\n",
      "  <div class=\"plainlist\">\n",
      "   <ul>\n",
      "    <li>\n",
      "     June 12, 2010\n",
      "     <span style=\"display:none\">\n",
      "      (\n",
      "      <span class=\"bday dtstart published updated\">\n",
      "       2010-06-12\n",
      "      </span>\n",
      "      )\n",
      "     </span>\n",
      "     (\n",
      "     <a href=\"/wiki/Taormina_Film_Fest\" title=\"Taormina Film Fest\">\n",
      "      Taormina Film Fest\n",
      "     </a>\n",
      "     )\n",
      "    </li>\n",
      "    <li>\n",
      "     June 18, 2010\n",
      "     <span style=\"display:none\">\n",
      "      (\n",
      "      <span class=\"bday dtstart published updated\">\n",
      "       2010-06-18\n",
      "      </span>\n",
      "      )\n",
      "     </span>\n",
      "     (United States)\n",
      "    </li>\n",
      "   </ul>\n",
      "  </div>\n",
      " </td>\n",
      "</tr>\n",
      "\n",
      "<tr>\n",
      " <th class=\"infobox-label\" scope=\"row\" style=\"white-space: nowrap; padding-right: 0.65em;\">\n",
      "  <div style=\"display: inline-block; line-height: 1.2em; padding: .1em 0; white-space: normal;\">\n",
      "   Running time\n",
      "  </div>\n",
      " </th>\n",
      " <td class=\"infobox-data\">\n",
      "  103 minutes\n",
      "  <sup class=\"reference\" id=\"cite_ref-mojo1_1-0\">\n",
      "   <a href=\"#cite_note-mojo1-1\">\n",
      "    [1]\n",
      "   </a>\n",
      "  </sup>\n",
      " </td>\n",
      "</tr>\n",
      "\n",
      "<tr>\n",
      " <th class=\"infobox-label\" scope=\"row\" style=\"white-space: nowrap; padding-right: 0.65em;\">\n",
      "  Country\n",
      " </th>\n",
      " <td class=\"infobox-data\">\n",
      "  United States\n",
      " </td>\n",
      "</tr>\n",
      "\n",
      "<tr>\n",
      " <th class=\"infobox-label\" scope=\"row\" style=\"white-space: nowrap; padding-right: 0.65em;\">\n",
      "  Language\n",
      " </th>\n",
      " <td class=\"infobox-data\">\n",
      "  English\n",
      " </td>\n",
      "</tr>\n",
      "\n",
      "<tr>\n",
      " <th class=\"infobox-label\" scope=\"row\" style=\"white-space: nowrap; padding-right: 0.65em;\">\n",
      "  Budget\n",
      " </th>\n",
      " <td class=\"infobox-data\">\n",
      "  $200 million\n",
      "  <sup class=\"reference\" id=\"cite_ref-mojo1_1-1\">\n",
      "   <a href=\"#cite_note-mojo1-1\">\n",
      "    [1]\n",
      "   </a>\n",
      "  </sup>\n",
      " </td>\n",
      "</tr>\n",
      "\n",
      "<tr>\n",
      " <th class=\"infobox-label\" scope=\"row\" style=\"white-space: nowrap; padding-right: 0.65em;\">\n",
      "  Box office\n",
      " </th>\n",
      " <td class=\"infobox-data\">\n",
      "  $1.067 billion\n",
      "  <sup class=\"reference\" id=\"cite_ref-mojo1_1-2\">\n",
      "   <a href=\"#cite_note-mojo1-1\">\n",
      "    [1]\n",
      "   </a>\n",
      "  </sup>\n",
      " </td>\n",
      "</tr>\n"
     ]
    }
   ],
   "source": [
    "info_box = soup.find(class_='infobox vevent')\n",
    "info_rows = info_box.find_all('tr')\n",
    "for row in info_rows:\n",
    "    print(row.prettify())"
   ]
  },
  {
   "cell_type": "code",
   "execution_count": 4,
   "id": "4d79fb5f-80cc-4544-b470-5245a448dc85",
   "metadata": {
    "scrolled": true
   },
   "outputs": [
    {
     "data": {
      "text/plain": [
       "{'title': 'Toy Story 3',\n",
       " 'Directed by': 'Lee Unkrich',\n",
       " 'Screenplay by': 'Michael Arndt',\n",
       " 'Story by': ['John Lasseter', 'Andrew Stanton', 'Lee Unkrich'],\n",
       " 'Produced by': 'Darla K. Anderson',\n",
       " 'Starring': ['Tom Hanks',\n",
       "  'Tim Allen',\n",
       "  'Joan Cusack',\n",
       "  'Don Rickles',\n",
       "  'Wallace Shawn',\n",
       "  'John Ratzenberger',\n",
       "  'Estelle Harris',\n",
       "  'Ned Beatty',\n",
       "  'Michael Keaton',\n",
       "  'Jodi Benson',\n",
       "  'John Morris'],\n",
       " 'Cinematography': ['Jeremy Lasky', 'Kim White'],\n",
       " 'Edited by': 'Ken Schretzmann',\n",
       " 'Music by': 'Randy Newman',\n",
       " 'Production companies': ['Walt Disney Pictures', 'Pixar Animation Studios'],\n",
       " 'Distributed by': 'Walt Disney Studios Motion Pictures',\n",
       " 'Release dates': ['June 12, 2010 ( 2010-06-12 ) ( Taormina Film Fest )',\n",
       "  'June 18, 2010 ( 2010-06-18 ) (United States)'],\n",
       " 'Running time': '103 minutes [1]',\n",
       " 'Country': 'United States',\n",
       " 'Language': 'English',\n",
       " 'Budget': '$200 million [1]',\n",
       " 'Box office': '$1.067 billion [1]'}"
      ]
     },
     "execution_count": 4,
     "metadata": {},
     "output_type": "execute_result"
    }
   ],
   "source": [
    "def get_content_value(row_data):\n",
    "    if row_data.find('li'):\n",
    "        return [li.get_text(\" \", strip=True).replace(\"\\xa0\",\" \") for li in row_data.find_all(\"li\")]\n",
    "        \n",
    "    else:\n",
    "        return row_data.get_text(\" \", strip=True).replace(\"\\xa0\",\" \")\n",
    "\n",
    "movie_info = {}\n",
    "for index, row in enumerate(info_rows):\n",
    "    if index == 0:\n",
    "        movie_info['title']=row.find('th').get_text(\" \", strip=True)\n",
    "    elif index == 1:\n",
    "        continue\n",
    "    else:\n",
    "        content_key = row.find('th').get_text(\" \", strip=True)\n",
    "        content_value = get_content_value(row.find('td'))\n",
    "        movie_info[content_key] = content_value\n",
    "        \n",
    "movie_info"
   ]
  },
  {
   "cell_type": "markdown",
   "id": "187cdcb1-f198-484d-88fb-de0f7a8ac21e",
   "metadata": {},
   "source": [
    "#### Task#2 Scrape infobox for all movies in list of Disney film"
   ]
  },
  {
   "cell_type": "code",
   "execution_count": 5,
   "id": "9d552065-efb8-4907-a4c1-00bb4c1d6dba",
   "metadata": {},
   "outputs": [],
   "source": [
    "r = requests.get('https://en.wikipedia.org/wiki/List_of_Walt_Disney_Pictures_films', timeout=10)\n",
    "\n",
    "soup = bs(r.content)\n",
    "\n",
    "contents = soup.prettify()"
   ]
  },
  {
   "cell_type": "code",
   "execution_count": 6,
   "id": "77d4864e-e255-4e0d-9625-a4ccd528f065",
   "metadata": {},
   "outputs": [
    {
     "data": {
      "text/plain": [
       "[<i><a href=\"/wiki/Snow_White_and_the_Seven_Dwarfs_(1937_film)\" title=\"Snow White and the Seven Dwarfs (1937 film)\">Snow White and the Seven Dwarfs</a></i>,\n",
       " <i><a href=\"/wiki/Pinocchio_(1940_film)\" title=\"Pinocchio (1940 film)\">Pinocchio</a></i>,\n",
       " <i><a href=\"/wiki/Fantasia_(1940_film)\" title=\"Fantasia (1940 film)\">Fantasia</a></i>,\n",
       " <i><a href=\"/wiki/The_Reluctant_Dragon_(1941_film)\" title=\"The Reluctant Dragon (1941 film)\">The Reluctant Dragon</a></i>,\n",
       " <i><a href=\"/wiki/Dumbo\" title=\"Dumbo\">Dumbo</a></i>,\n",
       " <i><a href=\"/wiki/Bambi\" title=\"Bambi\">Bambi</a></i>,\n",
       " <i><a href=\"/wiki/Saludos_Amigos\" title=\"Saludos Amigos\">Saludos Amigos</a></i>,\n",
       " <i><a href=\"/wiki/Victory_Through_Air_Power_(film)\" title=\"Victory Through Air Power (film)\">Victory Through Air Power</a></i>,\n",
       " <i><a href=\"/wiki/The_Three_Caballeros\" title=\"The Three Caballeros\">The Three Caballeros</a></i>,\n",
       " <i><a href=\"/wiki/Make_Mine_Music\" title=\"Make Mine Music\">Make Mine Music</a></i>]"
      ]
     },
     "execution_count": 6,
     "metadata": {},
     "output_type": "execute_result"
    }
   ],
   "source": [
    "movies = soup.select('.wikitable.sortable i')\n",
    "movies[:10]"
   ]
  },
  {
   "cell_type": "code",
   "execution_count": 7,
   "id": "3bc79879-40de-49a9-94f9-97e6186f220b",
   "metadata": {},
   "outputs": [],
   "source": [
    "def get_content_value(row_data):\n",
    "    if row_data.find('li'):\n",
    "        return [li.get_text(\" \", strip=True).replace(\"\\xa0\",\" \") for li in row_data.find_all(\"li\")]\n",
    "\n",
    "    elif row_data.find('br'):# subtask2: split up the long strings\n",
    "        return [text for text in row_data.stripped_strings]\n",
    "        \n",
    "    else:\n",
    "        return row_data.get_text(\" \", strip=True).replace(\"\\xa0\",\" \")\n",
    "\n",
    "def clean_tags(soup): # subtask1: strip out tags and extra info (ex [1] [2])\n",
    "    for tag in soup.find_all(['sup','span']):\n",
    "        tag.decompose()\n",
    "\n",
    "def get_info_box(url):\n",
    "    r = requests.get(url)\n",
    "    soup = bs(r.content)\n",
    "    \n",
    "    clean_tags(soup)\n",
    "    \n",
    "    info_box = soup.find(class_='infobox vevent')\n",
    "    info_rows = info_box.find_all('tr')\n",
    "    \n",
    "    movie_info = {}\n",
    "    for index, row in enumerate(info_rows):\n",
    "        if index == 0:\n",
    "            movie_info['title']=row.find('th').get_text(\" \", strip=True)\n",
    "        else:\n",
    "            header = row.find('th')\n",
    "            if header: #subtask3: to fix some 'tr' don't have 'th' error\n",
    "                content_key = row.find('th').get_text(\" \", strip=True)\n",
    "                content_value = get_content_value(row.find('td'))\n",
    "                movie_info[content_key] = content_value\n",
    "        \n",
    "    return movie_info"
   ]
  },
  {
   "cell_type": "code",
   "execution_count": 8,
   "id": "750a7670-543c-45e8-86cf-25e21a7e5549",
   "metadata": {},
   "outputs": [
    {
     "data": {
      "text/plain": [
       "{'title': 'One Little Indian',\n",
       " 'Directed by': 'Bernard McEveety',\n",
       " 'Written by': 'Harry Spalding',\n",
       " 'Produced by': 'Winston Hibler',\n",
       " 'Starring': ['James Garner',\n",
       "  'Vera Miles',\n",
       "  'Pat Hingle',\n",
       "  \"Clay O'Brien\",\n",
       "  'John Doucette',\n",
       "  'Morgan Woodward',\n",
       "  'Andrew Prine'],\n",
       " 'Cinematography': 'Charles F. Wheeler',\n",
       " 'Edited by': 'Robert Stafford',\n",
       " 'Music by': 'Jerry Goldsmith',\n",
       " 'Production company': 'Walt Disney Productions',\n",
       " 'Distributed by': 'Buena Vista Distribution',\n",
       " 'Release date': ['June 20, 1973'],\n",
       " 'Running time': '90 Minutes',\n",
       " 'Country': 'United States',\n",
       " 'Language': 'English',\n",
       " 'Box office': '$2 million'}"
      ]
     },
     "execution_count": 8,
     "metadata": {},
     "output_type": "execute_result"
    }
   ],
   "source": [
    "get_info_box('https://en.wikipedia.org/wiki/One_Little_Indian_(film)')"
   ]
  },
  {
   "cell_type": "code",
   "execution_count": 9,
   "id": "9a75fc42-037e-4c16-aafb-444e50f46d46",
   "metadata": {
    "scrolled": true
   },
   "outputs": [
    {
     "name": "stdout",
     "output_type": "stream",
     "text": [
      "569\n",
      "0\n",
      "The Sign of Zorro\n",
      "'NoneType' object has no attribute 'find'\n",
      "100\n",
      "200\n",
      "Mighty Ducks the Movie: The First Face-Off\n",
      "'NoneType' object has no attribute 'find'\n",
      "Spirited Away\n",
      "'NoneType' object has no attribute 'find'\n",
      "300\n",
      "Howl's Moving Castle\n",
      "'NoneType' object has no attribute 'find'\n",
      "Ponyo\n",
      "'NoneType' object has no attribute 'find'\n",
      "Tales from Earthsea\n",
      "'NoneType' object has no attribute 'find'\n",
      "400\n",
      "The Secret World of Arrietty\n",
      "'NoneType' object has no attribute 'find'\n",
      "500\n",
      "The Beatles: Get Back – The Rooftop Concert\n",
      "'NoneType' object has no attribute 'find'\n",
      "61\n",
      "'NoneType' object has no attribute 'find_all'\n",
      "All Night Long\n",
      "'NoneType' object has no attribute 'find'\n",
      "Big Thunder Mountain Railroad\n",
      "'NoneType' object has no attribute 'find_all'\n",
      "Keeper of the Lost Cities\n",
      "'NoneType' object has no attribute 'find_all'\n",
      "Muppet Man\n",
      "'NoneType' object has no attribute 'find_all'\n",
      "One Thousand and One Nights\n",
      "'NoneType' object has no attribute 'find_all'\n",
      "Shrunk\n",
      "'NoneType' object has no attribute 'find'\n",
      "Sister Act 3\n",
      "'NoneType' object has no attribute 'find'\n",
      "Space Mountain\n",
      "'NoneType' object has no attribute 'find_all'\n",
      "The Graveyard Book\n",
      "'NoneType' object has no attribute 'find_all'\n",
      "The Thief\n",
      "'NoneType' object has no attribute 'find_all'\n",
      "Tom Sawyer\n",
      "'NoneType' object has no attribute 'find_all'\n",
      "citation needed\n",
      "'NoneType' object has no attribute 'find_all'\n",
      "Tower of Terror\n",
      "'NoneType' object has no attribute 'find_all'\n",
      "Toy Story\n",
      "'NoneType' object has no attribute 'find'\n",
      "Figment\n",
      "'NoneType' object has no attribute 'find_all'\n",
      "Frozen\n",
      "'NoneType' object has no attribute 'find'\n"
     ]
    }
   ],
   "source": [
    "movies = soup.select('.wikitable.sortable i a')\n",
    "print(len(movies))\n",
    "base_path = 'https://en.wikipedia.org/'\n",
    "\n",
    "movie_info_list = []\n",
    "for index, movie in enumerate(movies):\n",
    "    if index % 100 == 0:\n",
    "        print(index)\n",
    "    \n",
    "    try:\n",
    "        relative_path = movie['href']\n",
    "        full_path = base_path + relative_path\n",
    "        title = movie['title']\n",
    "    \n",
    "        movie_info_list.append(get_info_box(full_path))\n",
    "\n",
    "    except Exception as e:\n",
    "        \n",
    "        print(movie.get_text())\n",
    "        print(e)\n",
    "    \n",
    "    "
   ]
  },
  {
   "cell_type": "code",
   "execution_count": 10,
   "id": "f57f7b74-9b16-4f73-8b90-24e5d087a210",
   "metadata": {
    "scrolled": true
   },
   "outputs": [
    {
     "data": {
      "text/plain": [
       "{'title': 'Snow White and the Seven Dwarfs',\n",
       " 'Directed by': ['David Hand',\n",
       "  'Perce Pearce',\n",
       "  'William Cottrell',\n",
       "  'Larry Morey',\n",
       "  'Wilfred Jackson',\n",
       "  'Ben Sharpsteen'],\n",
       " 'Story by': ['Ted Sears',\n",
       "  'Richard Creedon',\n",
       "  'Otto Englander',\n",
       "  'Dick Rickard',\n",
       "  'Earl Hurd',\n",
       "  'Merrill De Maris',\n",
       "  'Dorothy Ann Blank',\n",
       "  'Webb Smith'],\n",
       " 'Based on': ['\"', 'Snow White', '\"', 'by the', 'Brothers Grimm'],\n",
       " 'Produced by': 'Walt Disney',\n",
       " 'Starring': ['Adriana Caselotti',\n",
       "  'Roy Atwell',\n",
       "  'Pinto Colvig',\n",
       "  'Otis Harlan',\n",
       "  'Scotty Mattraw',\n",
       "  'Billy Gilbert',\n",
       "  'Eddie Collins'],\n",
       " 'Music by': ['Frank Churchill', 'Leigh Harline', 'Paul Smith'],\n",
       " 'Production company': 'Walt Disney Productions',\n",
       " 'Distributed by': 'RKO Radio Pictures',\n",
       " 'Release dates': ['December 21, 1937 ( Carthay Circle Theatre )',\n",
       "  'February 4, 1938 (United States)'],\n",
       " 'Running time': '83 minutes',\n",
       " 'Country': 'United States',\n",
       " 'Language': 'English',\n",
       " 'Budget': '$1.5 million',\n",
       " 'Box office': '$418 million'}"
      ]
     },
     "execution_count": 10,
     "metadata": {},
     "output_type": "execute_result"
    }
   ],
   "source": [
    "movie_info_list[0]"
   ]
  },
  {
   "cell_type": "code",
   "execution_count": 11,
   "id": "667bdf81-7faa-4319-83b8-9f59a2883042",
   "metadata": {},
   "outputs": [],
   "source": [
    "import json\n",
    "\n",
    "def save_data(title, data):\n",
    "    with open (title, 'w', encoding='utf-8') as f:\n",
    "        json.dump(data, f, ensure_ascii=False, indent=2)"
   ]
  },
  {
   "cell_type": "code",
   "execution_count": 12,
   "id": "87d2530d-5ed3-40b0-8f08-e4b7b163ea29",
   "metadata": {},
   "outputs": [],
   "source": [
    "save_data('disney_data_cleaned.json', movie_info_list)"
   ]
  },
  {
   "cell_type": "markdown",
   "id": "11911c1e-a557-4fa8-933d-3e2046810fa4",
   "metadata": {},
   "source": [
    "#### Task#3 Clean our data!"
   ]
  },
  {
   "cell_type": "markdown",
   "id": "de8864fc-1f84-4186-a908-928123f58d26",
   "metadata": {},
   "source": [
    "##### Subtasks\n",
    "- [x] Clean up references[1]\n",
    "- [x] Split up the long strings\n",
    "- [ ] Convert running time into an integer\n",
    "- [ ] Convert dates into datetime object\n",
    "- [ ] Convert Budget & Box office to numbers"
   ]
  },
  {
   "cell_type": "code",
   "execution_count": 29,
   "id": "79a4642f-c1b0-4b74-8182-212daa218c99",
   "metadata": {},
   "outputs": [],
   "source": [
    "import json\n",
    "\n",
    "def load_data(title):\n",
    "    with open(title, encoding='utf-8') as f:\n",
    "        return json.load(f)"
   ]
  },
  {
   "cell_type": "code",
   "execution_count": 30,
   "id": "ec9635ad-1a3d-42a9-8cb1-c4c3c17a7385",
   "metadata": {},
   "outputs": [],
   "source": [
    "movie_info_list = load_data('disney_data_cleaned.json')"
   ]
  },
  {
   "cell_type": "code",
   "execution_count": 31,
   "id": "7ba05a3a-0a9f-40d5-a90f-cde4fd472801",
   "metadata": {
    "scrolled": true
   },
   "outputs": [
    {
     "name": "stdout",
     "output_type": "stream",
     "text": [
      "['83 minutes', '88 minutes', '126 minutes', '74 minutes', '64 minutes', '70 minutes', '42 minutes', '65 min', '71 minutes', '75 minutes', '94 minutes', '73 minutes', '75 minutes', '82 minutes', '68 minutes', '74 minutes', '96 minutes', '75 minutes', '84 minutes', '77 minutes', '92 minutes', '69 minutes', '81 minutes', ['60 minutes (VHS and Wild Discovery version)', '71 minutes (original)'], '127 minutes', '93 minutes', '76 minutes', '75 minutes', '73 minutes', '85 minutes', '81 minutes', '70 minutes', '90 minutes', '80 minutes', '75 minutes', '84 minutes', '83 minutes', '72 minutes', '97 minutes', '75 minutes', '104 minutes', '93 minutes', '105 minutes', '95 minutes', '97 minutes', '134 minutes', '69 minutes', '92 minutes', '126 minutes', '79 minutes', '97 minutes', '128 minutes', '73 minutes', '91 minutes', '105 minutes', '98 minutes', '130 minutes', '89 minutes', '93 minutes', '67 minutes', '98 minutes', '100 minutes', '118 minutes', '103 minutes', '110 minutes', '80 min.', '79 minutes', '91 minutes', '91 minutes', '97 minutes', '118 minutes', '139 minutes', '131 mins.', '92 minutes', '87 minutes', '116 minutes', '93 minutes', '114 minutes', '110 minutes', '131 minutes', '101 minutes', '110 minutes', '84 minutes', '78 minutes', '75 minutes', ['164 minutes', '(', 'Los Angeles', 'premiere)', '144 minutes', '(', 'New York City', 'premiere)', '118 minutes', '(General release)', '172 minutes', '(', \"Director's cut\", ')'], '106 minutes', '110 minutes', '99 minutes', '113 mins.', '108 minutes', '102 minutes', '85 minutes', '91 minutes', '93 minutes', '100 minutes', '100 minutes', '79 minutes', '96 minutes', '113 minutes', '89 minutes', ['118 minutes (1971 original version)', '139 minutes (1996 reconstruction version)'], '92 minutes', '88 minutes', '92 minutes', '87 minutes', '93 minutes', '93 minutes', '93 minutes', '90 Minutes', '83 minutes', '96 minutes', '88 minutes', '89 minutes', '91 minutes', '93 minutes', '92 minutes', '97 minutes', '100 minutes', '100 minutes', '89 minutes', 'N/A', '91 minutes', '112 minutes', '115 minutes', '95 minutes', '91 minutes', '97 minutes', '104 minutes', '74 minutes', '77 minutes', '104 minutes', '128 minutes', '101 minutes', '94 minutes', '104 minutes', '90 minutes', '100 minutes', '88 minutes', '93 minutes', '98 minutes', '112 minutes', '84 minutes', '97 minutes', '97 minutes', '114 minutes', '96 minutes', '97 minutes', '109 minutes', '83 minutes', '90 minutes', '107 minutes', '96 minutes', '103 minutes', '91 min', '95 minutes', '105 minutes', '113 minutes', '80 minutes', '101 minutes', '90 minutes', '74 minutes', '90 minutes', '89 minutes', '110 minutes', '74 minutes', '93 minutes', '84 minutes', '83 minutes', '69 minutes', '77 minutes', '107 minutes', '93 minutes', '88 minutes', '108 minutes', '84 minutes', '121 minutes', '89 minutes', '104 minutes', '90 minutes', '86 minutes', '84 minutes', '108 minutes', '107 minutes', '96 minutes', '98 minutes', '105 minutes', '109 minutes', '94 minutes', '106 minutes', '102 minutes', '69 minutes', '88 minutes', '102 minutes', '102 minutes', '97 minutes', '111 minutes', '92 minutes', '100 minutes', '96 minutes', '96 minutes', '78 minutes', '81 minutes', '108 minutes', '89 minutes', '99 minutes', '89 minutes', '81 minutes', '92 minutes', '100 minutes', '89 minutes', '79 minutes', '91 minutes', '81 minutes', '101 minutes', '104 minutes', '103 minutes', '86 minutes', '106 minutes', '74 minutes', '93 minutes', '92 minutes', '98 minutes', '76 minutes', '95 minutes', '72 minutes', '93 minutes', '87 minutes', ['70 minutes', '(original release)', '92 minutes', '(special edition)'], '93 minutes', '87 minutes', '128 minutes', '72 minutes', '77 minutes', '82 minutes', '86 minutes', '95 minutes', '114 minutes', '93 minutes', '83 minutes', '83 minutes', '88 minutes', '78 minutes', '70 minutes', '112 minutes', '66 minutes', '92 minutes', '75 minutes', '77 minutes', '79 minutes', '72 minutes', '82 minutes', '104 minutes', '70 minutes', '75 minutes', '113 minutes', '100 minutes', '78 minutes', '83 minutes', '69 minutes', '96 minutes', '115 minutes', '86 minutes', '92 minutes', '65 minutes', '100 minutes', '73 minutes', '73 minutes', '68 minutes', '128 minutes', '86 minutes', '75 minutes', '88 minutes', '68 minutes', '96 minutes', '104 minutes', '95 minutes', '74 minutes', '72 minutes', '88 minutes', '75 minutes', '61 minutes', '117 minutes', '94 minutes', '80 minutes', '100 minutes', '143 minutes', '96 minutes', '64 minutes', '87 minutes', '85 minutes', '87 minutes', '50 minutes', '74 minutes', '136 minutes', '78 minutes', '85 minutes', '65 minutes', '76 minutes', '40 minutes', '120 minutes', '84 minutes', '113 minutes', '67 minutes', '115 minutes', '67 minutes', '131 minutes', '100 minutes', '79 minutes', '68 minutes', '95 minutes', '97 minutes', '72 minutes', '100 minutes', '100 minutes', '76 minutes', '68 minutes', '67 minutes', '120 minutes', '81 minutes', '143 minutes', '72 minutes', '118 minutes', '40 minutes', '72 minutes', '120 minutes', '99 minutes', '82 minutes', '117 minutes', '72 minutes', '150 minutes', '104 minutes', '73 minutes', '76 minutes', '92 minutes', '69 minutes', '70 minutes', '95 minutes', '95 minutes', '169 minutes', '111 minutes', '85 minutes', '82 minutes', '87 minutes', '110 minutes', '107 minutes', '124 minutes', '74 minutes', '82 minutes', '150 minutes', '98 minutes', '77 minutes', '91 minutes', '100 minutes', '112 minutes', '93 minutes', '78 minutes', '96 minutes', '99 minutes', ['76 minutes', '85 minutes'], '98 minutes', '97 minutes', ['99 minutes (UK)', '90 minutes (U.S.)'], '101 minutes', '96 minutes', '89 minutes', '90 minutes', '107 minutes', '82 minutes', '101 minutes', '96 minutes', '88 minutes', '97 minutes', '108 minutes', '85 minutes', ['104 minutes (Original cut)', '84 minutes (Disney cut)'], '116 minutes', '103 minutes', '109 minutes', '74 minutes', '79 minutes', '123 minutes', '108 minutes', '100 minutes', '125 minutes', 'N/A', '84 minutes', '90 minutes', '88 minutes', '109 minutes', '89 minutes', '104 minutes', '137 minutes', '106 minutes', '63 minutes', '88 minutes', '103 minutes', '93 minutes', '132 minutes', '77 minutes', '96 minutes', '93 minutes', '100 minutes', '89 minutes', '87 minutes', '75 minutes', '101 minutes', '130 minutes', '77 minutes', '104 minutes', '149 minutes', '92 minutes', '81 minutes', '102 minutes', '125 minutes', '107 minutes', '78 minutes', '77 minutes', '124 minutes', '97 minutes', '84 minutes', '127 minutes', '81 minutes', '102 minutes', '124 minutes', '129 minutes', '76 minutes', '106 minutes', '82 minutes', '130 minutes', '95 minutes', '154 minutes', '94 minutes', '117 minutes', '108 minutes', '106 minutes', '99 minutes', '113 minutes', '97 minutes', '118 minutes', '103 minutes', '124 minutes', '107 minutes', '161 minutes', '86 minutes', '129 minutes', '76 minutes', '129 minutes', '102 minutes', 'N/A', '162 minutes', '114 minutes', '105 minutes', '110 minutes', '118 minutes', '104 minutes', '99 minutes', '112 minutes', '131 minutes', '112 minutes', '76 minutes', '128 minutes', '100 minutes', '118 minutes', '119 minutes', '104 minutes', '100 minutes', '103 minutes', '114 minutes', '99 minutes', '102 minutes', '107 minutes', '78 minutes', '86 minutes', '95 minutes', '160 minutes', '85 minutes', '100 minutes', '95 minutes', '115 minutes', '110 minutes', '122 minutes', '101 minutes', '121 minutes', '95 minutes', '107 minutes', '134 minutes', '95 minutes', '127 minutes', '102 minutes', '58 minutes', '108 minutes', '82 minutes', '100 minutes', '107 minutes', '91 minutes', '84 minutes', '97 minutes', '105 minutes', '105 minutes', '111 minutes', '105 minutes', '103 minutes', '119 minutes', '102 minutes', '75 minutes', '77 minutes', '109 minutes', '109 minutes', '105 minutes', '135 minutes', '101 minutes', '101 minutes', '154 minutes', '123 minutes', '90 minutes', '95 minutes', '62 minutes', 'N/A', 'N/A', 'N/A', 'N/A', '107 minutes', '102 minutes', 'N/A', 'N/A', 'N/A', '81 minutes', '70 minutes', 'N/A', '90 minutes', '93 minutes', '91 minutes', '78 minutes', '124 minutes', 'N/A', '107 minutes', 'N/A', '79 minutes', '508 minutes (5 films)', '108 minutes', '102 minutes', ['468 minutes'], '108 minutes']\n"
     ]
    }
   ],
   "source": [
    "print([movie.get('Running time', 'N/A') for movie in movie_info_list])"
   ]
  },
  {
   "cell_type": "code",
   "execution_count": 32,
   "id": "b7b2fa8a-ca82-491e-8c8f-9f1d73ad6c9b",
   "metadata": {
    "scrolled": true
   },
   "outputs": [
    {
     "data": {
      "text/plain": [
       "{'title': 'Zootopia',\n",
       " 'Directed by': ['Byron Howard', 'Rich Moore'],\n",
       " 'Screenplay by': ['Jared Bush', 'Phil Johnston'],\n",
       " 'Story by': ['Byron Howard',\n",
       "  'Rich Moore',\n",
       "  'Jared Bush',\n",
       "  'Jim Reardon',\n",
       "  'Josie Trinidad',\n",
       "  'Phil Johnston',\n",
       "  'Jennifer Lee'],\n",
       " 'Produced by': 'Clark Spencer',\n",
       " 'Starring': ['Ginnifer Goodwin',\n",
       "  'Jason Bateman',\n",
       "  'Idris Elba',\n",
       "  'Jenny Slate',\n",
       "  'Nate Torrence',\n",
       "  'Bonnie Hunt',\n",
       "  'Don Lake',\n",
       "  'Tommy Chong',\n",
       "  'J. K. Simmons',\n",
       "  'Octavia Spencer',\n",
       "  'Alan Tudyk',\n",
       "  'Shakira'],\n",
       " 'Cinematography': ['Nathan Warner (layout)', 'Brian Leach (lighting)'],\n",
       " 'Edited by': ['Fabienne Rawley', 'Jeremy Milton'],\n",
       " 'Music by': 'Michael Giacchino',\n",
       " 'Production companies': ['Walt Disney Pictures',\n",
       "  'Walt Disney Animation Studios'],\n",
       " 'Distributed by': ['Walt Disney Studios', 'Motion Pictures'],\n",
       " 'Release dates': ['February 13, 2016 (Belgium)',\n",
       "  'March 4, 2016 (United States)'],\n",
       " 'Running time': '108 minutes',\n",
       " 'Country': 'United States',\n",
       " 'Language': 'English',\n",
       " 'Budget': '$150 million',\n",
       " 'Box office': '$1.025 billion',\n",
       " 'Running time (int)': 108}"
      ]
     },
     "execution_count": 32,
     "metadata": {},
     "output_type": "execute_result"
    }
   ],
   "source": [
    "def minutes_to_integer(running_time):\n",
    "    if running_time == 'N/A':\n",
    "        return None\n",
    "    if isinstance(running_time, list):\n",
    "        return int(running_time[0].split(' ')[0])\n",
    "    else:\n",
    "        return int(running_time.split(' ')[0])\n",
    "\n",
    "for movie in movie_info_list:\n",
    "    movie['Running time (int)'] = minutes_to_integer(movie.get('Running time', 'N/A'))\n",
    "\n",
    "movie_info_list[-1]"
   ]
  },
  {
   "cell_type": "markdown",
   "id": "391285ab-1f39-4d35-94f4-1d4849c44b43",
   "metadata": {},
   "source": [
    "- [x] Clean up references[1]\n",
    "- [x] Split up the long strings\n",
    "- [x] Convert running time into an integer\n",
    "- [ ] Convert dates into datetime object\n",
    "- [ ] Convert Budget & Box office to numbers"
   ]
  },
  {
   "cell_type": "code",
   "execution_count": 33,
   "id": "8541f08d-387c-4990-a064-b095a73b5b9f",
   "metadata": {},
   "outputs": [],
   "source": [
    "import re\n",
    "\n",
    "amounts = r\"thousand|million|billion\"\n",
    "number = r\"\\d+(,\\d{3})*\\.*\\d*\"\n",
    "standard = fr\"\\${number}(-|\\sto\\s)?({number})?\\s({amounts})\"\n",
    "\n",
    "def word_to_value(word):\n",
    "\tvalue_dict = {\"thousand\": 1000, \"million\": 1000000, \"billion\": 1000000000}\n",
    "\treturn value_dict.get(word.lower(), 1)\n",
    "\n",
    "def parse_word_syntax(string):\n",
    "\tstripped_string = string.replace(\",\", \"\")\n",
    "\tvalue = float(re.search(number, stripped_string).group())\n",
    "\tmodifier = word_to_value(re.search(amounts, string, flags=re.I).group())\n",
    "\treturn value*modifier\n",
    "\n",
    "def parse_value_syntax(string):\n",
    "\tstripped_string = string.replace(\",\", \"\")\n",
    "\treturn float(re.search(number, stripped_string).group())\n",
    "\n",
    "def money_conversion(money):\n",
    "\tif type(money) == list:\n",
    "\t\tmoney = money[0]\n",
    "\n",
    "\tword_syntax = re.search(standard, money, flags=re.I)\n",
    "\tvalue_syntax = re.search(fr\"\\${number}\", money)\n",
    "\n",
    "\tif word_syntax:\n",
    "\t\treturn parse_word_syntax(word_syntax.group())\n",
    "\telif value_syntax:\n",
    "\t\treturn parse_value_syntax(value_syntax.group())\n",
    "\telse:\n",
    "\t\treturn None"
   ]
  },
  {
   "cell_type": "code",
   "execution_count": 34,
   "id": "889efdf4-be50-4504-bf9e-cfc9af18cc24",
   "metadata": {},
   "outputs": [],
   "source": [
    "for movie in movie_info_list:\n",
    "    movie['Buget (float)'] = money_conversion(movie.get('Budget', 'N/A'))\n",
    "    movie['Box office (float)'] = money_conversion(movie.get('Box office', 'N/A'))"
   ]
  },
  {
   "cell_type": "code",
   "execution_count": 35,
   "id": "963163f7-94bb-4493-a480-b40cfaf1e45b",
   "metadata": {
    "scrolled": true
   },
   "outputs": [
    {
     "data": {
      "text/plain": [
       "{'title': 'Haunted Mansion',\n",
       " 'Directed by': 'Justin Simien',\n",
       " 'Screenplay by': 'Katie Dippold',\n",
       " 'Based on': ['The Haunted Mansion', 'by', 'Walt Disney'],\n",
       " 'Produced by': ['Dan Lin', 'Jonathan Eirich'],\n",
       " 'Starring': ['LaKeith Stanfield',\n",
       "  'Tiffany Haddish',\n",
       "  'Owen Wilson',\n",
       "  'Danny DeVito',\n",
       "  'Rosario Dawson',\n",
       "  'Dan Levy',\n",
       "  'Jamie Lee Curtis',\n",
       "  'Jared Leto'],\n",
       " 'Cinematography': 'Jeffrey Waldron',\n",
       " 'Edited by': 'Phillip J. Bartell',\n",
       " 'Music by': 'Kris Bowers',\n",
       " 'Production companies': ['Walt Disney Pictures', 'Rideback'],\n",
       " 'Distributed by': 'Walt Disney Studios Motion Pictures',\n",
       " 'Release dates': ['July 15, 2023 ( Disneyland )',\n",
       "  'July 28, 2023 (United States)'],\n",
       " 'Running time': '123 minutes',\n",
       " 'Country': 'United States',\n",
       " 'Language': 'English',\n",
       " 'Budget': '$150 million',\n",
       " 'Box office': '$117.5 million',\n",
       " 'Running time (int)': 123,\n",
       " 'Buget (float)': 150000000.0,\n",
       " 'Box office (float)': 117500000.0}"
      ]
     },
     "execution_count": 35,
     "metadata": {},
     "output_type": "execute_result"
    }
   ],
   "source": [
    "movie_info_list[-30]"
   ]
  },
  {
   "cell_type": "markdown",
   "id": "d159c7e5-e7b6-41f1-bc89-8e0ffcecca87",
   "metadata": {},
   "source": [
    "- [x] Clean up references[1]\n",
    "- [x] Split up the long strings\n",
    "- [x] Convert running time into an integer\n",
    "- [ ] Convert dates into datetime object\n",
    "- [x] Convert Budget & Box office to numbers"
   ]
  },
  {
   "cell_type": "code",
   "execution_count": 39,
   "id": "63a2be34-fc6c-4168-a87a-aea567acc68f",
   "metadata": {},
   "outputs": [],
   "source": [
    "from datetime import datetime\n",
    "def clean_date(date):\n",
    "    return date.split('(')[0].strip()\n",
    "\n",
    "def date_conversion(date):\n",
    "    if isinstance(date, list):\n",
    "        date = date[0]\n",
    "    if date == 'N/A':\n",
    "        return None\n",
    "    date_str = clean_date(date)\n",
    "\n",
    "    fmts = ['%B %d, %Y','%d %B %Y']\n",
    "    for fmt in fmts:\n",
    "        try:\n",
    "            return datetime.strptime(date_str, fmt)\n",
    "        except:\n",
    "            pass\n",
    "    return None"
   ]
  },
  {
   "cell_type": "code",
   "execution_count": 40,
   "id": "e8cb7a0b-6f7f-4aa1-abaf-1c79650f9088",
   "metadata": {},
   "outputs": [],
   "source": [
    "for movie in movie_info_list:\n",
    "    movie['Release dates (datetime)'] = date_conversion(movie.get('Release dates', 'N/A'))"
   ]
  },
  {
   "cell_type": "code",
   "execution_count": 42,
   "id": "9c17c360-6404-4b50-b09c-133d10a7a9ba",
   "metadata": {
    "scrolled": true
   },
   "outputs": [
    {
     "data": {
      "text/plain": [
       "{'title': 'In Search of the Castaways',\n",
       " 'Directed by': 'Robert Stevenson',\n",
       " 'Screenplay by': 'Lowell S. Hawley',\n",
       " 'Based on': ['In Search of the Castaways', 'by', 'Jules Verne'],\n",
       " 'Produced by': 'Walt Disney',\n",
       " 'Starring': ['Maurice Chevalier',\n",
       "  'Hayley Mills',\n",
       "  'George Sanders',\n",
       "  'Wilfrid Hyde-White',\n",
       "  'Michael Anderson Jr.',\n",
       "  'Keith Hamshere',\n",
       "  'Antonio Cifariello'],\n",
       " 'Cinematography': 'Paul Beeson',\n",
       " 'Edited by': 'Gordon Stone',\n",
       " 'Music by': ['Music Composed by:',\n",
       "  'Morton Gould',\n",
       "  'Additional Music by:',\n",
       "  'Van Cleave',\n",
       "  'Musical Director:',\n",
       "  'Jack Shaindlin',\n",
       "  'Songs:',\n",
       "  'Richard M. Sherman',\n",
       "  'Robert B. Sherman'],\n",
       " 'Production company': 'Walt Disney Productions',\n",
       " 'Distributed by': 'Buena Vista Distribution',\n",
       " 'Release dates': ['November 14, 1962 (London, premiere)',\n",
       "  'December 19, 1962 (US)'],\n",
       " 'Running time': '98 minutes',\n",
       " 'Country': 'United States',\n",
       " 'Language': 'English',\n",
       " 'Box office': '$21,745,500',\n",
       " 'Running time (int)': 98,\n",
       " 'Buget (float)': None,\n",
       " 'Box office (float)': 21745500.0,\n",
       " 'Release dates (datetime)': datetime.datetime(1962, 11, 14, 0, 0)}"
      ]
     },
     "execution_count": 42,
     "metadata": {},
     "output_type": "execute_result"
    }
   ],
   "source": [
    "movie_info_list[60]"
   ]
  },
  {
   "cell_type": "code",
   "execution_count": 43,
   "id": "488eee55-fe7c-4de6-aa95-f87b6fd658d4",
   "metadata": {},
   "outputs": [],
   "source": [
    "import pickle\n",
    "\n",
    "def save_data_pickle(name, data):\n",
    "    with open(name, 'wb') as f:\n",
    "        pickle.dump(data, f)"
   ]
  },
  {
   "cell_type": "code",
   "execution_count": 44,
   "id": "05d50a16-c563-41c2-9594-bd3797fe0746",
   "metadata": {},
   "outputs": [],
   "source": [
    "save_data_pickle('disney_movie_data_cleaner.pickle', movie_info_list)"
   ]
  },
  {
   "cell_type": "code",
   "execution_count": 48,
   "id": "fe9bad53-85cd-404e-98d1-a07dfb0d8525",
   "metadata": {},
   "outputs": [],
   "source": [
    "import pickle\n",
    "\n",
    "def load_data_pickle(name):\n",
    "    with open(name, 'rb') as f:\n",
    "        return pickle.load(f)"
   ]
  },
  {
   "cell_type": "code",
   "execution_count": 49,
   "id": "91044b1a-7770-4a99-9eff-94c780db5717",
   "metadata": {},
   "outputs": [],
   "source": [
    "a = load_data_pickle('disney_movie_data_cleaner.pickle')"
   ]
  },
  {
   "cell_type": "code",
   "execution_count": 59,
   "id": "6be367db-7744-446d-8658-342d8468410b",
   "metadata": {
    "scrolled": true
   },
   "outputs": [
    {
     "data": {
      "text/plain": [
       "{'title': 'The Three Lives of Thomasina',\n",
       " 'Directed by': 'Don Chaffey',\n",
       " 'Written by': 'Robert Westerby',\n",
       " 'Based on': ['Thomasina, the Cat Who Thought She Was God',\n",
       "  'by',\n",
       "  'Paul Gallico'],\n",
       " 'Produced by': ['Ron Miller Walt Disney'],\n",
       " 'Starring': ['Patrick McGoohan',\n",
       "  'Karen Dotrice',\n",
       "  'Susan Hampshire',\n",
       "  'Matthew Garber'],\n",
       " 'Narrated by': 'Elspeth March',\n",
       " 'Cinematography': 'Paul Beeson',\n",
       " 'Edited by': 'Gordon Stone',\n",
       " 'Music by': 'Paul J. Smith',\n",
       " 'Production company': 'Walt Disney Productions',\n",
       " 'Distributed by': 'Buena Vista Distribution',\n",
       " 'Release dates': ['11 December 1963 ( New York City )', '4 June 1964 (U.S.)'],\n",
       " 'Running time': '97 minutes',\n",
       " 'Countries': ['United Kingdom', 'United States'],\n",
       " 'Languages': ['English', 'Gaelic'],\n",
       " 'Box office': '$2,250,000 (US/ Canada)',\n",
       " 'Running time (int)': 97,\n",
       " 'Buget (float)': None,\n",
       " 'Box office (float)': 2250000.0,\n",
       " 'Release dates (datetime)': datetime.datetime(1963, 12, 11, 0, 0)}"
      ]
     },
     "execution_count": 59,
     "metadata": {},
     "output_type": "execute_result"
    }
   ],
   "source": [
    "a[69]"
   ]
  },
  {
   "cell_type": "markdown",
   "id": "9d9976b4-11eb-4377-b6f4-ed37780a4a6d",
   "metadata": {},
   "source": [
    "#### Task#4 working with APIs"
   ]
  },
  {
   "cell_type": "code",
   "execution_count": 63,
   "id": "09f32bec-c57e-412d-bc12-e5dff35bc741",
   "metadata": {
    "scrolled": true
   },
   "outputs": [
    {
     "data": {
      "text/plain": [
       "{'Title': 'The Three Lives of Thomasina',\n",
       " 'Year': '1963',\n",
       " 'Rated': 'PG',\n",
       " 'Released': '04 Jun 1964',\n",
       " 'Runtime': '97 min',\n",
       " 'Genre': 'Drama, Family',\n",
       " 'Director': 'Don Chaffey',\n",
       " 'Writer': 'Robert Westerby, Paul Gallico',\n",
       " 'Actors': 'Patrick McGoohan, Susan Hampshire, Laurence Naismith',\n",
       " 'Plot': 'Thomasina the cat brings a family together, through her mysterious death and reappearance.',\n",
       " 'Language': 'English, Gaelic',\n",
       " 'Country': 'United Kingdom, United States',\n",
       " 'Awards': 'N/A',\n",
       " 'Poster': 'https://m.media-amazon.com/images/M/MV5BM2E2Y2Q2OGYtZmExYi00MGM5LTg4MzItYjk5NjI0MjgwY2JlXkEyXkFqcGdeQXVyMTQ3Njg3MQ@@._V1_SX300.jpg',\n",
       " 'Ratings': [{'Source': 'Internet Movie Database', 'Value': '7.2/10'}],\n",
       " 'Metascore': 'N/A',\n",
       " 'imdbRating': '7.2',\n",
       " 'imdbVotes': '2,531',\n",
       " 'imdbID': 'tt0057579',\n",
       " 'Type': 'movie',\n",
       " 'DVD': 'N/A',\n",
       " 'BoxOffice': 'N/A',\n",
       " 'Production': 'N/A',\n",
       " 'Website': 'N/A',\n",
       " 'Response': 'True'}"
      ]
     },
     "execution_count": 63,
     "metadata": {},
     "output_type": "execute_result"
    }
   ],
   "source": [
    "import requests\n",
    "import urllib\n",
    "\n",
    "def get_omdb_info(title):\n",
    "    base_url = 'http://www.omdbapi.com/?'\n",
    "    parameters = {'apikey':'d63b7b66', 't':title}\n",
    "    params_encoded = urllib.parse.urlencode(parameters)\n",
    "    full_url = base_url + params_encoded\n",
    "    return requests.get(full_url).json()\n",
    "\n",
    "def get_rotten_tomato_score(omdb_info):\n",
    "    ratings = omdb_info.get('Ratings', [])\n",
    "    for rating in ratings:\n",
    "        if rating['Source'] == 'Rotten Tomatoes':\n",
    "            return rating['Value']\n",
    "    return None\n",
    "\n",
    "get_omdb_info('The Three Lives of Thomasina')"
   ]
  },
  {
   "cell_type": "code",
   "execution_count": 65,
   "id": "9c04bded-1b7d-42aa-bb44-f576f5064dfc",
   "metadata": {},
   "outputs": [
    {
     "name": "stdout",
     "output_type": "stream",
     "text": [
      "{'title': 'Snow White and the Seven Dwarfs', 'Directed by': ['David Hand', 'Perce Pearce', 'William Cottrell', 'Larry Morey', 'Wilfred Jackson', 'Ben Sharpsteen'], 'Story by': ['Ted Sears', 'Richard Creedon', 'Otto Englander', 'Dick Rickard', 'Earl Hurd', 'Merrill De Maris', 'Dorothy Ann Blank', 'Webb Smith'], 'Based on': ['\"', 'Snow White', '\"', 'by the', 'Brothers Grimm'], 'Produced by': 'Walt Disney', 'Starring': ['Adriana Caselotti', 'Roy Atwell', 'Pinto Colvig', 'Otis Harlan', 'Scotty Mattraw', 'Billy Gilbert', 'Eddie Collins'], 'Music by': ['Frank Churchill', 'Leigh Harline', 'Paul Smith'], 'Production company': 'Walt Disney Productions', 'Distributed by': 'RKO Radio Pictures', 'Release dates': ['December 21, 1937 ( Carthay Circle Theatre )', 'February 4, 1938 (United States)'], 'Running time': '83 minutes', 'Country': 'United States', 'Language': 'English', 'Budget': '$1.5 million', 'Box office': '$418 million', 'Running time (int)': 83, 'Buget (float)': 1500000.0, 'Box office (float)': 418000000.0, 'Release dates (datetime)': datetime.datetime(1937, 12, 21, 0, 0), 'imdb': '7.6', 'metascore': '96', 'rotten_tomato': None}\n"
     ]
    }
   ],
   "source": [
    "for index, movie in enumerate(a):\n",
    "    title = movie['title']\n",
    "    omdb_info = get_omdb_info(title)\n",
    "    movie['imdb'] = omdb_info.get('imdbRating',None)\n",
    "    movie['metascore'] = omdb_info.get('Metascore',None)\n",
    "    movie['rotten_tomato'] = get_rotten_tomato_score(omdb_info)\n",
    "    print(movie)\n",
    "    break"
   ]
  },
  {
   "cell_type": "code",
   "execution_count": null,
   "id": "a02b9392-b7b5-437c-9e51-995de7c554e7",
   "metadata": {},
   "outputs": [],
   "source": []
  }
 ],
 "metadata": {
  "kernelspec": {
   "display_name": "Python 3 (ipykernel)",
   "language": "python",
   "name": "python3"
  },
  "language_info": {
   "codemirror_mode": {
    "name": "ipython",
    "version": 3
   },
   "file_extension": ".py",
   "mimetype": "text/x-python",
   "name": "python",
   "nbconvert_exporter": "python",
   "pygments_lexer": "ipython3",
   "version": "3.10.13"
  }
 },
 "nbformat": 4,
 "nbformat_minor": 5
}
