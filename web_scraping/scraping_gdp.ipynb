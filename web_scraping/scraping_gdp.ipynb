{
 "cells": [
  {
   "cell_type": "code",
   "execution_count": 1,
   "id": "8c2f2e00-9f2d-4065-bf28-35d72bf6390f",
   "metadata": {},
   "outputs": [],
   "source": [
    "import requests\n",
    "from bs4 import BeautifulSoup as bs\n",
    "\n",
    "url = 'https://en.wikipedia.org/wiki/List_of_countries_by_GDP_(nominal)'\n",
    "r = requests.get(url)\n",
    "soup = bs(r.content)"
   ]
  },
  {
   "cell_type": "code",
   "execution_count": 2,
   "id": "adb0fbb8-641b-47bc-a16e-3c1bcfc1a826",
   "metadata": {},
   "outputs": [],
   "source": [
    "table = soup.find('table', {'class': 'wikitable'})"
   ]
  },
  {
   "cell_type": "code",
   "execution_count": 3,
   "id": "bcad65b6-4f28-4e0a-a1c2-2cbf23bab103",
   "metadata": {},
   "outputs": [
    {
     "name": "stderr",
     "output_type": "stream",
     "text": [
      "/var/folders/ht/211fs6tj5cg4t37lr0jhpf7c0000gn/T/ipykernel_8943/2942101889.py:3: FutureWarning: Passing literal html to 'read_html' is deprecated and will be removed in a future version. To read from a literal string, wrap it in a 'StringIO' object.\n",
      "  gdp_table_df = pd.read_html(str([table]))[0]\n"
     ]
    },
    {
     "data": {
      "text/html": [
       "<div>\n",
       "<style scoped>\n",
       "    .dataframe tbody tr th:only-of-type {\n",
       "        vertical-align: middle;\n",
       "    }\n",
       "\n",
       "    .dataframe tbody tr th {\n",
       "        vertical-align: top;\n",
       "    }\n",
       "\n",
       "    .dataframe thead tr th {\n",
       "        text-align: left;\n",
       "    }\n",
       "</style>\n",
       "<table border=\"1\" class=\"dataframe\">\n",
       "  <thead>\n",
       "    <tr>\n",
       "      <th></th>\n",
       "      <th>Country/Territory</th>\n",
       "      <th>UN region</th>\n",
       "      <th colspan=\"2\" halign=\"left\">IMF[1][13]</th>\n",
       "      <th colspan=\"2\" halign=\"left\">World Bank[14]</th>\n",
       "      <th colspan=\"2\" halign=\"left\">United Nations[15]</th>\n",
       "    </tr>\n",
       "    <tr>\n",
       "      <th></th>\n",
       "      <th>Country/Territory</th>\n",
       "      <th>UN region</th>\n",
       "      <th>Forecast</th>\n",
       "      <th>Year</th>\n",
       "      <th>Estimate</th>\n",
       "      <th>Year</th>\n",
       "      <th>Estimate</th>\n",
       "      <th>Year</th>\n",
       "    </tr>\n",
       "  </thead>\n",
       "  <tbody>\n",
       "    <tr>\n",
       "      <th>0</th>\n",
       "      <td>World</td>\n",
       "      <td>—</td>\n",
       "      <td>104476432</td>\n",
       "      <td>2023</td>\n",
       "      <td>100562011</td>\n",
       "      <td>2022</td>\n",
       "      <td>96698005</td>\n",
       "      <td>2021</td>\n",
       "    </tr>\n",
       "    <tr>\n",
       "      <th>1</th>\n",
       "      <td>United States</td>\n",
       "      <td>Americas</td>\n",
       "      <td>26949643</td>\n",
       "      <td>2023</td>\n",
       "      <td>25462700</td>\n",
       "      <td>2022</td>\n",
       "      <td>23315081</td>\n",
       "      <td>2021</td>\n",
       "    </tr>\n",
       "    <tr>\n",
       "      <th>2</th>\n",
       "      <td>China</td>\n",
       "      <td>Asia</td>\n",
       "      <td>17700899</td>\n",
       "      <td>[n 1]2023</td>\n",
       "      <td>17963171</td>\n",
       "      <td>[n 3]2022</td>\n",
       "      <td>17734131</td>\n",
       "      <td>[n 1]2021</td>\n",
       "    </tr>\n",
       "    <tr>\n",
       "      <th>3</th>\n",
       "      <td>Germany</td>\n",
       "      <td>Europe</td>\n",
       "      <td>4429838</td>\n",
       "      <td>2023</td>\n",
       "      <td>4072192</td>\n",
       "      <td>2022</td>\n",
       "      <td>4259935</td>\n",
       "      <td>2021</td>\n",
       "    </tr>\n",
       "    <tr>\n",
       "      <th>4</th>\n",
       "      <td>Japan</td>\n",
       "      <td>Asia</td>\n",
       "      <td>4230862</td>\n",
       "      <td>2023</td>\n",
       "      <td>4231141</td>\n",
       "      <td>2022</td>\n",
       "      <td>4940878</td>\n",
       "      <td>2021</td>\n",
       "    </tr>\n",
       "  </tbody>\n",
       "</table>\n",
       "</div>"
      ],
      "text/plain": [
       "  Country/Territory UN region IMF[1][13]            World Bank[14]             \\\n",
       "  Country/Territory UN region   Forecast       Year       Estimate       Year   \n",
       "0             World         —  104476432       2023      100562011       2022   \n",
       "1     United States  Americas   26949643       2023       25462700       2022   \n",
       "2             China      Asia   17700899  [n 1]2023       17963171  [n 3]2022   \n",
       "3           Germany    Europe    4429838       2023        4072192       2022   \n",
       "4             Japan      Asia    4230862       2023        4231141       2022   \n",
       "\n",
       "  United Nations[15]             \n",
       "            Estimate       Year  \n",
       "0           96698005       2021  \n",
       "1           23315081       2021  \n",
       "2           17734131  [n 1]2021  \n",
       "3            4259935       2021  \n",
       "4            4940878       2021  "
      ]
     },
     "execution_count": 3,
     "metadata": {},
     "output_type": "execute_result"
    }
   ],
   "source": [
    "import pandas as pd\n",
    "\n",
    "gdp_table_df = pd.read_html(str([table]))[0]\n",
    "gdp_table_df.head()"
   ]
  },
  {
   "cell_type": "code",
   "execution_count": 4,
   "id": "603f65ac-7b55-498f-acd9-f70b38105503",
   "metadata": {},
   "outputs": [
    {
     "data": {
      "text/plain": [
       "'\\nCountry/Territory\\n\\nUN region\\n\\nIMF[1][13]\\n\\nWorld Bank[14]\\n\\nUnited Nations[15]\\n'"
      ]
     },
     "execution_count": 4,
     "metadata": {},
     "output_type": "execute_result"
    }
   ],
   "source": [
    "import json\n",
    "gdp_rows = table.find_all('tr')\n",
    "row = [td.text for td in gdp_rows]\n",
    "row[0]"
   ]
  },
  {
   "cell_type": "code",
   "execution_count": 5,
   "id": "50c465d7-92fb-4baa-b6f4-34434a764c8c",
   "metadata": {},
   "outputs": [
    {
     "data": {
      "text/plain": [
       "214"
      ]
     },
     "execution_count": 5,
     "metadata": {},
     "output_type": "execute_result"
    }
   ],
   "source": [
    "if r.status_code == 200:\n",
    "\n",
    "    rows = gdp_rows[2:]  # Skip the header row\n",
    "    \n",
    "    country_data = {}\n",
    "    for row in rows:\n",
    "        columns = row.find_all(['th', 'td'])\n",
    "        country = columns[0].text.strip()\n",
    "        gdp = columns[2].text.strip()\n",
    "        country_data[country] = gdp\n",
    "\n",
    "else:\n",
    "    print(f\"Failed to retrieve the page. Status code: {response.status_code}\")\n",
    "len(country_data)"
   ]
  },
  {
   "cell_type": "code",
   "execution_count": 6,
   "id": "ee80c7c8-abb6-4d64-9532-c01049666a1e",
   "metadata": {},
   "outputs": [
    {
     "data": {
      "text/plain": [
       "'26,949,643'"
      ]
     },
     "execution_count": 6,
     "metadata": {},
     "output_type": "execute_result"
    }
   ],
   "source": [
    "country_data['United States']"
   ]
  },
  {
   "cell_type": "code",
   "execution_count": 7,
   "id": "562d6571-b2d1-4c3b-b139-090f7ddbbd3c",
   "metadata": {},
   "outputs": [
    {
     "data": {
      "text/plain": [
       "['Country/Territory',\n",
       " 'UN region',\n",
       " 'IMF',\n",
       " 'World Bank',\n",
       " 'United Nations',\n",
       " 'Forecast',\n",
       " 'Year',\n",
       " 'Estimate',\n",
       " 'Year',\n",
       " 'Estimate',\n",
       " 'Year']"
      ]
     },
     "execution_count": 7,
     "metadata": {},
     "output_type": "execute_result"
    }
   ],
   "source": [
    "def clean_tags(soup): # subtask1: strip out tags and extra info (ex [1] [2])\n",
    "    for tag in soup.find_all(['sup','span']):\n",
    "        tag.decompose()\n",
    "# Extract headers\n",
    "headers = []\n",
    "for th in table.find_all('th'):\n",
    "    clean_tags(th)\n",
    "    headers.append(th.text.strip())\n",
    "headers"
   ]
  },
  {
   "cell_type": "code",
   "execution_count": 8,
   "id": "db16aedf-b0e2-43dd-b845-5ecc6c402d75",
   "metadata": {},
   "outputs": [],
   "source": [
    "# Define the custom headers list\n",
    "custom_headers = [\n",
    "    'Country/Territory',\n",
    "    'UN region',\n",
    "    'IMF - Forecast',\n",
    "    'IMF - Year',\n",
    "    'World Bank - Estimate',\n",
    "    'World Bank - Year',\n",
    "    'United Nations - Estimate',\n",
    "    'United Nations - Year'\n",
    "]\n",
    "\n",
    "# Initialize the list to store dictionaries for each country\n",
    "countries_data = []\n",
    "\n",
    "# Extract data rows\n",
    "data_rows = table.find_all('tr')[2:]  # Skip the first two rows which contain headers\n",
    "for tr in data_rows:\n",
    "    tds = tr.find_all('td')\n",
    "\n",
    "    # Create a dictionary for each country\n",
    "    country_info = {}\n",
    "    \n",
    "    for i, td in enumerate(tds):\n",
    "        header = custom_headers[i]\n",
    "        if '-' in header:\n",
    "            main_header, subheader = header.split(' - ')\n",
    "            if main_header not in country_info:\n",
    "                country_info[main_header] = {}\n",
    "            country_info[main_header][subheader] = td.text.strip()\n",
    "        else:\n",
    "            country_info[header] = td.text.strip()\n",
    "\n",
    "    # Add the country dictionary to the list\n",
    "    countries_data.append(country_info)"
   ]
  },
  {
   "cell_type": "code",
   "execution_count": 9,
   "id": "49b58969-6995-4ff7-92af-4a42c01008b6",
   "metadata": {},
   "outputs": [
    {
     "data": {
      "text/plain": [
       "{'Country/Territory': 'United States',\n",
       " 'UN region': 'Americas',\n",
       " 'IMF': {'Forecast': '26,949,643', 'Year': '2023'},\n",
       " 'World Bank': {'Estimate': '25,462,700', 'Year': '2022'},\n",
       " 'United Nations': {'Estimate': '23,315,081', 'Year': '2021'}}"
      ]
     },
     "execution_count": 9,
     "metadata": {},
     "output_type": "execute_result"
    }
   ],
   "source": [
    "countries_data[1]"
   ]
  }
 ],
 "metadata": {
  "kernelspec": {
   "display_name": "Python 3 (ipykernel)",
   "language": "python",
   "name": "python3"
  },
  "language_info": {
   "codemirror_mode": {
    "name": "ipython",
    "version": 3
   },
   "file_extension": ".py",
   "mimetype": "text/x-python",
   "name": "python",
   "nbconvert_exporter": "python",
   "pygments_lexer": "ipython3",
   "version": "3.10.13"
  }
 },
 "nbformat": 4,
 "nbformat_minor": 5
}
